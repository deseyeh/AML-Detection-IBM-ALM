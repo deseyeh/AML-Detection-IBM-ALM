{
  "cells": [
    {
      "cell_type": "markdown",
      "metadata": {
        "id": "view-in-github",
        "colab_type": "text"
      },
      "source": [
        "<a href=\"https://colab.research.google.com/github/deseyeh/AML-Detection-IBM-ALM/blob/main/AML_EDA.ipynb\" target=\"_parent\"><img src=\"https://colab.research.google.com/assets/colab-badge.svg\" alt=\"Open In Colab\"/></a>"
      ]
    },
    {
      "cell_type": "markdown",
      "id": "799250c5",
      "metadata": {
        "id": "799250c5"
      },
      "source": [
        "### import Libraries"
      ]
    },
    {
      "cell_type": "code",
      "execution_count": null,
      "id": "5fc7f63b",
      "metadata": {
        "id": "5fc7f63b"
      },
      "outputs": [],
      "source": [
        "import pandas as pd\n",
        "import numpy as np\n",
        "import matplotlib.pyplot as plt\n",
        "from mpl_toolkits.mplot3d import Axes3D\n",
        "import seaborn as sns\n",
        "from imblearn.over_sampling import SMOTE"
      ]
    },
    {
      "cell_type": "code",
      "source": [
        "# Mount drive\n",
        "\n",
        "from google.colab import drive\n",
        "drive.mount('/content/drive')"
      ],
      "metadata": {
        "id": "WfPmeDfHJ68L"
      },
      "id": "WfPmeDfHJ68L",
      "execution_count": null,
      "outputs": []
    },
    {
      "cell_type": "code",
      "execution_count": null,
      "id": "76b96ae7",
      "metadata": {
        "colab": {
          "base_uri": "https://localhost:8080/"
        },
        "id": "76b96ae7",
        "outputId": "fb97a371-7b30-4f4e-b03a-fa40c11e2ff7"
      },
      "outputs": [
        {
          "output_type": "stream",
          "name": "stdout",
          "text": [
            "/content/drive/My Drive/Colab Notebooks/AML_data/HI-Large_Patterns.txt\n"
          ]
        }
      ],
      "source": [
        "# initiate path\n",
        "\n",
        "path = \"/content/drive/My Drive/Colab Notebooks/AML_data/HI-Large_Patterns.txt\"\n",
        "print(path)"
      ]
    },
    {
      "cell_type": "markdown",
      "id": "0eba19d2",
      "metadata": {
        "id": "0eba19d2"
      },
      "source": [
        "### Load dataset"
      ]
    },
    {
      "cell_type": "code",
      "execution_count": null,
      "id": "9edb3443",
      "metadata": {
        "id": "9edb3443"
      },
      "outputs": [],
      "source": [
        "try:\n",
        "    data = pd.read_csv(path)\n",
        "except IOError:\n",
        "    print(\"File Not Found\")"
      ]
    },
    {
      "cell_type": "code",
      "source": [],
      "metadata": {
        "id": "E50mRm2sL2Np"
      },
      "id": "E50mRm2sL2Np",
      "execution_count": null,
      "outputs": []
    },
    {
      "cell_type": "code",
      "execution_count": null,
      "id": "04466ffe",
      "metadata": {
        "scrolled": false,
        "id": "04466ffe",
        "outputId": "bdada542-3968-4f3f-c80d-86984ee90334"
      },
      "outputs": [
        {
          "data": {
            "text/html": [
              "<div>\n",
              "<style scoped>\n",
              "    .dataframe tbody tr th:only-of-type {\n",
              "        vertical-align: middle;\n",
              "    }\n",
              "\n",
              "    .dataframe tbody tr th {\n",
              "        vertical-align: top;\n",
              "    }\n",
              "\n",
              "    .dataframe thead th {\n",
              "        text-align: right;\n",
              "    }\n",
              "</style>\n",
              "<table border=\"1\" class=\"dataframe\">\n",
              "  <thead>\n",
              "    <tr style=\"text-align: right;\">\n",
              "      <th></th>\n",
              "      <th>Timestamp</th>\n",
              "      <th>From Bank</th>\n",
              "      <th>Account</th>\n",
              "      <th>To Bank</th>\n",
              "      <th>Account.1</th>\n",
              "      <th>Amount Received</th>\n",
              "      <th>Receiving Currency</th>\n",
              "      <th>Amount Paid</th>\n",
              "      <th>Payment Currency</th>\n",
              "      <th>Payment Format</th>\n",
              "      <th>Is Laundering</th>\n",
              "    </tr>\n",
              "  </thead>\n",
              "  <tbody>\n",
              "    <tr>\n",
              "      <th>0</th>\n",
              "      <td>2022/09/01 00:20</td>\n",
              "      <td>10</td>\n",
              "      <td>8000EBD30</td>\n",
              "      <td>10</td>\n",
              "      <td>8000EBD30</td>\n",
              "      <td>3697.34</td>\n",
              "      <td>US Dollar</td>\n",
              "      <td>3697.34</td>\n",
              "      <td>US Dollar</td>\n",
              "      <td>Reinvestment</td>\n",
              "      <td>0</td>\n",
              "    </tr>\n",
              "    <tr>\n",
              "      <th>1</th>\n",
              "      <td>2022/09/01 00:20</td>\n",
              "      <td>3208</td>\n",
              "      <td>8000F4580</td>\n",
              "      <td>1</td>\n",
              "      <td>8000F5340</td>\n",
              "      <td>0.01</td>\n",
              "      <td>US Dollar</td>\n",
              "      <td>0.01</td>\n",
              "      <td>US Dollar</td>\n",
              "      <td>Cheque</td>\n",
              "      <td>0</td>\n",
              "    </tr>\n",
              "    <tr>\n",
              "      <th>2</th>\n",
              "      <td>2022/09/01 00:00</td>\n",
              "      <td>3209</td>\n",
              "      <td>8000F4670</td>\n",
              "      <td>3209</td>\n",
              "      <td>8000F4670</td>\n",
              "      <td>14675.57</td>\n",
              "      <td>US Dollar</td>\n",
              "      <td>14675.57</td>\n",
              "      <td>US Dollar</td>\n",
              "      <td>Reinvestment</td>\n",
              "      <td>0</td>\n",
              "    </tr>\n",
              "    <tr>\n",
              "      <th>3</th>\n",
              "      <td>2022/09/01 00:02</td>\n",
              "      <td>12</td>\n",
              "      <td>8000F5030</td>\n",
              "      <td>12</td>\n",
              "      <td>8000F5030</td>\n",
              "      <td>2806.97</td>\n",
              "      <td>US Dollar</td>\n",
              "      <td>2806.97</td>\n",
              "      <td>US Dollar</td>\n",
              "      <td>Reinvestment</td>\n",
              "      <td>0</td>\n",
              "    </tr>\n",
              "    <tr>\n",
              "      <th>4</th>\n",
              "      <td>2022/09/01 00:06</td>\n",
              "      <td>10</td>\n",
              "      <td>8000F5200</td>\n",
              "      <td>10</td>\n",
              "      <td>8000F5200</td>\n",
              "      <td>36682.97</td>\n",
              "      <td>US Dollar</td>\n",
              "      <td>36682.97</td>\n",
              "      <td>US Dollar</td>\n",
              "      <td>Reinvestment</td>\n",
              "      <td>0</td>\n",
              "    </tr>\n",
              "  </tbody>\n",
              "</table>\n",
              "</div>"
            ],
            "text/plain": [
              "          Timestamp  From Bank    Account  To Bank  Account.1  \\\n",
              "0  2022/09/01 00:20         10  8000EBD30       10  8000EBD30   \n",
              "1  2022/09/01 00:20       3208  8000F4580        1  8000F5340   \n",
              "2  2022/09/01 00:00       3209  8000F4670     3209  8000F4670   \n",
              "3  2022/09/01 00:02         12  8000F5030       12  8000F5030   \n",
              "4  2022/09/01 00:06         10  8000F5200       10  8000F5200   \n",
              "\n",
              "   Amount Received Receiving Currency  Amount Paid Payment Currency  \\\n",
              "0          3697.34          US Dollar      3697.34        US Dollar   \n",
              "1             0.01          US Dollar         0.01        US Dollar   \n",
              "2         14675.57          US Dollar     14675.57        US Dollar   \n",
              "3          2806.97          US Dollar      2806.97        US Dollar   \n",
              "4         36682.97          US Dollar     36682.97        US Dollar   \n",
              "\n",
              "  Payment Format  Is Laundering  \n",
              "0   Reinvestment              0  \n",
              "1         Cheque              0  \n",
              "2   Reinvestment              0  \n",
              "3   Reinvestment              0  \n",
              "4   Reinvestment              0  "
            ]
          },
          "execution_count": 41,
          "metadata": {},
          "output_type": "execute_result"
        }
      ],
      "source": [
        "data.head()"
      ]
    },
    {
      "cell_type": "markdown",
      "id": "2c478429",
      "metadata": {
        "id": "2c478429"
      },
      "source": [
        "### Shape"
      ]
    },
    {
      "cell_type": "code",
      "execution_count": null,
      "id": "3958e7bb",
      "metadata": {
        "id": "3958e7bb",
        "outputId": "ee2c2cd0-302e-4af0-bf0e-903ac39ca269"
      },
      "outputs": [
        {
          "name": "stdout",
          "output_type": "stream",
          "text": [
            "Number of rows: 5078345\n",
            "Number of columns: 11\n"
          ]
        }
      ],
      "source": [
        "num_rows, num_columns = data.shape\n",
        "print(f\"Number of rows: {num_rows}\")\n",
        "print(f\"Number of columns: {num_columns}\")"
      ]
    },
    {
      "cell_type": "markdown",
      "id": "06039257",
      "metadata": {
        "id": "06039257"
      },
      "source": [
        "### Info"
      ]
    },
    {
      "cell_type": "code",
      "execution_count": null,
      "id": "070063c4",
      "metadata": {
        "scrolled": false,
        "id": "070063c4",
        "outputId": "d9453284-84e0-47a5-ad5c-78ce72a7b125"
      },
      "outputs": [
        {
          "name": "stdout",
          "output_type": "stream",
          "text": [
            "<class 'pandas.core.frame.DataFrame'>\n",
            "RangeIndex: 5078345 entries, 0 to 5078344\n",
            "Data columns (total 11 columns):\n",
            " #   Column              Dtype  \n",
            "---  ------              -----  \n",
            " 0   Timestamp           object \n",
            " 1   From Bank           int64  \n",
            " 2   Account             object \n",
            " 3   To Bank             int64  \n",
            " 4   Account.1           object \n",
            " 5   Amount Received     float64\n",
            " 6   Receiving Currency  object \n",
            " 7   Amount Paid         float64\n",
            " 8   Payment Currency    object \n",
            " 9   Payment Format      object \n",
            " 10  Is Laundering       int64  \n",
            "dtypes: float64(2), int64(3), object(6)\n",
            "memory usage: 426.2+ MB\n"
          ]
        }
      ],
      "source": [
        "data.info()"
      ]
    },
    {
      "cell_type": "markdown",
      "id": "4895ea4a",
      "metadata": {
        "id": "4895ea4a"
      },
      "source": [
        "### Missing Value"
      ]
    },
    {
      "cell_type": "code",
      "execution_count": null,
      "id": "1ccbc441",
      "metadata": {
        "id": "1ccbc441",
        "outputId": "eca22cac-56e5-4ac6-a939-e24359af3f14"
      },
      "outputs": [
        {
          "data": {
            "text/plain": [
              "Timestamp             0\n",
              "From Bank             0\n",
              "Account               0\n",
              "To Bank               0\n",
              "Account.1             0\n",
              "Amount Received       0\n",
              "Receiving Currency    0\n",
              "Amount Paid           0\n",
              "Payment Currency      0\n",
              "Payment Format        0\n",
              "Is Laundering         0\n",
              "dtype: int64"
            ]
          },
          "execution_count": 44,
          "metadata": {},
          "output_type": "execute_result"
        }
      ],
      "source": [
        "data.isna().sum()"
      ]
    },
    {
      "cell_type": "code",
      "execution_count": null,
      "id": "40d5539b",
      "metadata": {
        "id": "40d5539b",
        "outputId": "a1431419-fc13-47b8-b829-b0a7e0e099e8"
      },
      "outputs": [
        {
          "name": "stdout",
          "output_type": "stream",
          "text": [
            "Total missing value: 0\n"
          ]
        }
      ],
      "source": [
        "print(f\"Total missing value: {data.isna().sum().sum()}\")"
      ]
    },
    {
      "cell_type": "markdown",
      "id": "b0b5cc3b",
      "metadata": {
        "id": "b0b5cc3b"
      },
      "source": [
        "### Duplicate value"
      ]
    },
    {
      "cell_type": "code",
      "execution_count": null,
      "id": "03a9228b",
      "metadata": {
        "id": "03a9228b"
      },
      "outputs": [],
      "source": [
        "duplicate_rows = data.duplicated()"
      ]
    },
    {
      "cell_type": "code",
      "execution_count": null,
      "id": "891c594a",
      "metadata": {
        "id": "891c594a",
        "outputId": "d4594fa7-00a5-49bf-f191-c076dcc33be5"
      },
      "outputs": [
        {
          "data": {
            "text/plain": [
              "9"
            ]
          },
          "execution_count": 47,
          "metadata": {},
          "output_type": "execute_result"
        }
      ],
      "source": [
        "duplicate_rows.sum()"
      ]
    },
    {
      "cell_type": "code",
      "execution_count": null,
      "id": "f6c0a185",
      "metadata": {
        "id": "f6c0a185",
        "outputId": "5dc8f041-3cc7-4387-b0be-f6fcecb18ce5"
      },
      "outputs": [
        {
          "data": {
            "text/html": [
              "<div>\n",
              "<style scoped>\n",
              "    .dataframe tbody tr th:only-of-type {\n",
              "        vertical-align: middle;\n",
              "    }\n",
              "\n",
              "    .dataframe tbody tr th {\n",
              "        vertical-align: top;\n",
              "    }\n",
              "\n",
              "    .dataframe thead th {\n",
              "        text-align: right;\n",
              "    }\n",
              "</style>\n",
              "<table border=\"1\" class=\"dataframe\">\n",
              "  <thead>\n",
              "    <tr style=\"text-align: right;\">\n",
              "      <th></th>\n",
              "      <th>Timestamp</th>\n",
              "      <th>From Bank</th>\n",
              "      <th>Account</th>\n",
              "      <th>To Bank</th>\n",
              "      <th>Account.1</th>\n",
              "      <th>Amount Received</th>\n",
              "      <th>Receiving Currency</th>\n",
              "      <th>Amount Paid</th>\n",
              "      <th>Payment Currency</th>\n",
              "      <th>Payment Format</th>\n",
              "      <th>Is Laundering</th>\n",
              "    </tr>\n",
              "  </thead>\n",
              "  <tbody>\n",
              "    <tr>\n",
              "      <th>863295</th>\n",
              "      <td>2022/09/01 16:20</td>\n",
              "      <td>12004</td>\n",
              "      <td>800C927C1</td>\n",
              "      <td>12004</td>\n",
              "      <td>800C927C0</td>\n",
              "      <td>0.000008</td>\n",
              "      <td>Bitcoin</td>\n",
              "      <td>0.080000</td>\n",
              "      <td>Euro</td>\n",
              "      <td>ACH</td>\n",
              "      <td>0</td>\n",
              "    </tr>\n",
              "    <tr>\n",
              "      <th>863296</th>\n",
              "      <td>2022/09/01 16:20</td>\n",
              "      <td>12004</td>\n",
              "      <td>800C927C1</td>\n",
              "      <td>220</td>\n",
              "      <td>813D8C1E1</td>\n",
              "      <td>0.000008</td>\n",
              "      <td>Bitcoin</td>\n",
              "      <td>0.000008</td>\n",
              "      <td>Bitcoin</td>\n",
              "      <td>Bitcoin</td>\n",
              "      <td>0</td>\n",
              "    </tr>\n",
              "    <tr>\n",
              "      <th>3684005</th>\n",
              "      <td>2022/09/07 21:25</td>\n",
              "      <td>29992</td>\n",
              "      <td>8099A29B1</td>\n",
              "      <td>220</td>\n",
              "      <td>813725AE1</td>\n",
              "      <td>0.000003</td>\n",
              "      <td>Bitcoin</td>\n",
              "      <td>0.000003</td>\n",
              "      <td>Bitcoin</td>\n",
              "      <td>Bitcoin</td>\n",
              "      <td>0</td>\n",
              "    </tr>\n",
              "    <tr>\n",
              "      <th>4166786</th>\n",
              "      <td>2022/09/08 21:05</td>\n",
              "      <td>113779</td>\n",
              "      <td>811144AB1</td>\n",
              "      <td>113779</td>\n",
              "      <td>811144AB0</td>\n",
              "      <td>0.000002</td>\n",
              "      <td>Bitcoin</td>\n",
              "      <td>0.020000</td>\n",
              "      <td>US Dollar</td>\n",
              "      <td>ACH</td>\n",
              "      <td>0</td>\n",
              "    </tr>\n",
              "    <tr>\n",
              "      <th>4166787</th>\n",
              "      <td>2022/09/08 21:05</td>\n",
              "      <td>113779</td>\n",
              "      <td>811144AB1</td>\n",
              "      <td>53744</td>\n",
              "      <td>813C777F1</td>\n",
              "      <td>0.000002</td>\n",
              "      <td>Bitcoin</td>\n",
              "      <td>0.000002</td>\n",
              "      <td>Bitcoin</td>\n",
              "      <td>Bitcoin</td>\n",
              "      <td>0</td>\n",
              "    </tr>\n",
              "    <tr>\n",
              "      <th>4510480</th>\n",
              "      <td>2022/09/09 10:03</td>\n",
              "      <td>6075</td>\n",
              "      <td>80C702911</td>\n",
              "      <td>6075</td>\n",
              "      <td>80C702910</td>\n",
              "      <td>0.000002</td>\n",
              "      <td>Bitcoin</td>\n",
              "      <td>0.020000</td>\n",
              "      <td>US Dollar</td>\n",
              "      <td>ACH</td>\n",
              "      <td>0</td>\n",
              "    </tr>\n",
              "    <tr>\n",
              "      <th>4510481</th>\n",
              "      <td>2022/09/09 10:03</td>\n",
              "      <td>6075</td>\n",
              "      <td>80C702911</td>\n",
              "      <td>154653</td>\n",
              "      <td>814389B61</td>\n",
              "      <td>0.000002</td>\n",
              "      <td>Bitcoin</td>\n",
              "      <td>0.000002</td>\n",
              "      <td>Bitcoin</td>\n",
              "      <td>Bitcoin</td>\n",
              "      <td>0</td>\n",
              "    </tr>\n",
              "    <tr>\n",
              "      <th>4816512</th>\n",
              "      <td>2022/09/09 21:33</td>\n",
              "      <td>14433</td>\n",
              "      <td>80935A891</td>\n",
              "      <td>14433</td>\n",
              "      <td>80935A890</td>\n",
              "      <td>0.000001</td>\n",
              "      <td>Bitcoin</td>\n",
              "      <td>0.010000</td>\n",
              "      <td>US Dollar</td>\n",
              "      <td>ACH</td>\n",
              "      <td>0</td>\n",
              "    </tr>\n",
              "    <tr>\n",
              "      <th>4816513</th>\n",
              "      <td>2022/09/09 21:33</td>\n",
              "      <td>14433</td>\n",
              "      <td>80935A891</td>\n",
              "      <td>15</td>\n",
              "      <td>813F7AE61</td>\n",
              "      <td>0.000001</td>\n",
              "      <td>Bitcoin</td>\n",
              "      <td>0.000001</td>\n",
              "      <td>Bitcoin</td>\n",
              "      <td>Bitcoin</td>\n",
              "      <td>0</td>\n",
              "    </tr>\n",
              "  </tbody>\n",
              "</table>\n",
              "</div>"
            ],
            "text/plain": [
              "                Timestamp  From Bank    Account  To Bank  Account.1  \\\n",
              "863295   2022/09/01 16:20      12004  800C927C1    12004  800C927C0   \n",
              "863296   2022/09/01 16:20      12004  800C927C1      220  813D8C1E1   \n",
              "3684005  2022/09/07 21:25      29992  8099A29B1      220  813725AE1   \n",
              "4166786  2022/09/08 21:05     113779  811144AB1   113779  811144AB0   \n",
              "4166787  2022/09/08 21:05     113779  811144AB1    53744  813C777F1   \n",
              "4510480  2022/09/09 10:03       6075  80C702911     6075  80C702910   \n",
              "4510481  2022/09/09 10:03       6075  80C702911   154653  814389B61   \n",
              "4816512  2022/09/09 21:33      14433  80935A891    14433  80935A890   \n",
              "4816513  2022/09/09 21:33      14433  80935A891       15  813F7AE61   \n",
              "\n",
              "         Amount Received Receiving Currency  Amount Paid Payment Currency  \\\n",
              "863295          0.000008            Bitcoin     0.080000             Euro   \n",
              "863296          0.000008            Bitcoin     0.000008          Bitcoin   \n",
              "3684005         0.000003            Bitcoin     0.000003          Bitcoin   \n",
              "4166786         0.000002            Bitcoin     0.020000        US Dollar   \n",
              "4166787         0.000002            Bitcoin     0.000002          Bitcoin   \n",
              "4510480         0.000002            Bitcoin     0.020000        US Dollar   \n",
              "4510481         0.000002            Bitcoin     0.000002          Bitcoin   \n",
              "4816512         0.000001            Bitcoin     0.010000        US Dollar   \n",
              "4816513         0.000001            Bitcoin     0.000001          Bitcoin   \n",
              "\n",
              "        Payment Format  Is Laundering  \n",
              "863295             ACH              0  \n",
              "863296         Bitcoin              0  \n",
              "3684005        Bitcoin              0  \n",
              "4166786            ACH              0  \n",
              "4166787        Bitcoin              0  \n",
              "4510480            ACH              0  \n",
              "4510481        Bitcoin              0  \n",
              "4816512            ACH              0  \n",
              "4816513        Bitcoin              0  "
            ]
          },
          "execution_count": 48,
          "metadata": {},
          "output_type": "execute_result"
        }
      ],
      "source": [
        "data[duplicate_rows]"
      ]
    },
    {
      "cell_type": "markdown",
      "id": "c06465b8",
      "metadata": {
        "id": "c06465b8"
      },
      "source": [
        "#### Remove duplicate"
      ]
    },
    {
      "cell_type": "code",
      "execution_count": null,
      "id": "559652a4",
      "metadata": {
        "id": "559652a4"
      },
      "outputs": [],
      "source": [
        "# Remove duplicate rows and keep the first occurrence\n",
        "data = data.drop_duplicates()"
      ]
    },
    {
      "cell_type": "code",
      "execution_count": null,
      "id": "16ce3952",
      "metadata": {
        "id": "16ce3952",
        "outputId": "755bcec7-1a06-4269-e5fe-14136fe1432e"
      },
      "outputs": [
        {
          "data": {
            "text/plain": [
              "(5078336, 11)"
            ]
          },
          "execution_count": 50,
          "metadata": {},
          "output_type": "execute_result"
        }
      ],
      "source": [
        "data.shape"
      ]
    },
    {
      "cell_type": "code",
      "execution_count": null,
      "id": "a8cfdb81",
      "metadata": {
        "id": "a8cfdb81"
      },
      "outputs": [],
      "source": [
        "# initial datashape\n",
        "''''\n",
        "Number of rows: 5078345\n",
        "Number of columns: 11\n",
        "''''''"
      ]
    },
    {
      "cell_type": "markdown",
      "id": "1fb2fac0",
      "metadata": {
        "id": "1fb2fac0"
      },
      "source": [
        "## Description of Data"
      ]
    },
    {
      "cell_type": "code",
      "execution_count": null,
      "id": "ae85c265",
      "metadata": {
        "id": "ae85c265",
        "outputId": "f67e36d3-8c7c-498d-f270-266918432301"
      },
      "outputs": [
        {
          "data": {
            "text/plain": [
              "Index(['Timestamp', 'From Bank', 'Account', 'To Bank', 'Account.1',\n",
              "       'Amount Received', 'Receiving Currency', 'Amount Paid',\n",
              "       'Payment Currency', 'Payment Format', 'Is Laundering'],\n",
              "      dtype='object')"
            ]
          },
          "execution_count": 57,
          "metadata": {},
          "output_type": "execute_result"
        }
      ],
      "source": [
        "# the columns of dataset\n",
        "data.columns"
      ]
    },
    {
      "cell_type": "code",
      "execution_count": null,
      "id": "504400b5",
      "metadata": {
        "id": "504400b5",
        "outputId": "7672e2b9-c938-4582-a2c4-0b514f65df7a"
      },
      "outputs": [
        {
          "data": {
            "text/html": [
              "<div>\n",
              "<style scoped>\n",
              "    .dataframe tbody tr th:only-of-type {\n",
              "        vertical-align: middle;\n",
              "    }\n",
              "\n",
              "    .dataframe tbody tr th {\n",
              "        vertical-align: top;\n",
              "    }\n",
              "\n",
              "    .dataframe thead th {\n",
              "        text-align: right;\n",
              "    }\n",
              "</style>\n",
              "<table border=\"1\" class=\"dataframe\">\n",
              "  <thead>\n",
              "    <tr style=\"text-align: right;\">\n",
              "      <th></th>\n",
              "      <th>From Bank</th>\n",
              "      <th>To Bank</th>\n",
              "      <th>Amount Received</th>\n",
              "      <th>Amount Paid</th>\n",
              "      <th>Is Laundering</th>\n",
              "    </tr>\n",
              "  </thead>\n",
              "  <tbody>\n",
              "    <tr>\n",
              "      <th>count</th>\n",
              "      <td>5.078336e+06</td>\n",
              "      <td>5.078336e+06</td>\n",
              "      <td>5.078336e+06</td>\n",
              "      <td>5.078336e+06</td>\n",
              "      <td>5.078336e+06</td>\n",
              "    </tr>\n",
              "    <tr>\n",
              "      <th>mean</th>\n",
              "      <td>4.573058e+04</td>\n",
              "      <td>6.574461e+04</td>\n",
              "      <td>5.988737e+06</td>\n",
              "      <td>4.509281e+06</td>\n",
              "      <td>1.019428e-03</td>\n",
              "    </tr>\n",
              "    <tr>\n",
              "      <th>std</th>\n",
              "      <td>8.176567e+04</td>\n",
              "      <td>8.409303e+04</td>\n",
              "      <td>1.037184e+09</td>\n",
              "      <td>8.697736e+08</td>\n",
              "      <td>3.191221e-02</td>\n",
              "    </tr>\n",
              "    <tr>\n",
              "      <th>min</th>\n",
              "      <td>1.000000e+00</td>\n",
              "      <td>1.000000e+00</td>\n",
              "      <td>1.000000e-06</td>\n",
              "      <td>1.000000e-06</td>\n",
              "      <td>0.000000e+00</td>\n",
              "    </tr>\n",
              "    <tr>\n",
              "      <th>25%</th>\n",
              "      <td>1.190000e+02</td>\n",
              "      <td>4.259000e+03</td>\n",
              "      <td>1.833700e+02</td>\n",
              "      <td>1.844800e+02</td>\n",
              "      <td>0.000000e+00</td>\n",
              "    </tr>\n",
              "    <tr>\n",
              "      <th>50%</th>\n",
              "      <td>9.679000e+03</td>\n",
              "      <td>2.156800e+04</td>\n",
              "      <td>1.411040e+03</td>\n",
              "      <td>1.414570e+03</td>\n",
              "      <td>0.000000e+00</td>\n",
              "    </tr>\n",
              "    <tr>\n",
              "      <th>75%</th>\n",
              "      <td>2.862800e+04</td>\n",
              "      <td>1.223320e+05</td>\n",
              "      <td>1.234630e+04</td>\n",
              "      <td>1.229815e+04</td>\n",
              "      <td>0.000000e+00</td>\n",
              "    </tr>\n",
              "    <tr>\n",
              "      <th>max</th>\n",
              "      <td>3.563030e+05</td>\n",
              "      <td>3.562940e+05</td>\n",
              "      <td>1.046302e+12</td>\n",
              "      <td>1.046302e+12</td>\n",
              "      <td>1.000000e+00</td>\n",
              "    </tr>\n",
              "  </tbody>\n",
              "</table>\n",
              "</div>"
            ],
            "text/plain": [
              "          From Bank       To Bank  Amount Received   Amount Paid  \\\n",
              "count  5.078336e+06  5.078336e+06     5.078336e+06  5.078336e+06   \n",
              "mean   4.573058e+04  6.574461e+04     5.988737e+06  4.509281e+06   \n",
              "std    8.176567e+04  8.409303e+04     1.037184e+09  8.697736e+08   \n",
              "min    1.000000e+00  1.000000e+00     1.000000e-06  1.000000e-06   \n",
              "25%    1.190000e+02  4.259000e+03     1.833700e+02  1.844800e+02   \n",
              "50%    9.679000e+03  2.156800e+04     1.411040e+03  1.414570e+03   \n",
              "75%    2.862800e+04  1.223320e+05     1.234630e+04  1.229815e+04   \n",
              "max    3.563030e+05  3.562940e+05     1.046302e+12  1.046302e+12   \n",
              "\n",
              "       Is Laundering  \n",
              "count   5.078336e+06  \n",
              "mean    1.019428e-03  \n",
              "std     3.191221e-02  \n",
              "min     0.000000e+00  \n",
              "25%     0.000000e+00  \n",
              "50%     0.000000e+00  \n",
              "75%     0.000000e+00  \n",
              "max     1.000000e+00  "
            ]
          },
          "execution_count": 54,
          "metadata": {},
          "output_type": "execute_result"
        }
      ],
      "source": [
        "##\n",
        "data_desc = data.describe()\n",
        "data_desc"
      ]
    },
    {
      "cell_type": "markdown",
      "id": "c3d0006b",
      "metadata": {
        "id": "c3d0006b"
      },
      "source": [
        "### Export data for Model further preprocessing"
      ]
    },
    {
      "cell_type": "code",
      "execution_count": null,
      "id": "cb62dce7",
      "metadata": {
        "id": "cb62dce7"
      },
      "outputs": [],
      "source": [
        "#processed1.csv"
      ]
    }
  ],
  "metadata": {
    "kernelspec": {
      "display_name": "Python 3 (ipykernel)",
      "language": "python",
      "name": "python3"
    },
    "language_info": {
      "codemirror_mode": {
        "name": "ipython",
        "version": 3
      },
      "file_extension": ".py",
      "mimetype": "text/x-python",
      "name": "python",
      "nbconvert_exporter": "python",
      "pygments_lexer": "ipython3",
      "version": "3.9.13"
    },
    "colab": {
      "provenance": [],
      "include_colab_link": true
    }
  },
  "nbformat": 4,
  "nbformat_minor": 5
}